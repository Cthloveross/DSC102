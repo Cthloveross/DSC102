{
 "cells": [
  {
   "cell_type": "code",
   "execution_count": 1,
   "id": "92984fb2-2ac8-481d-8996-f5c31376478a",
   "metadata": {},
   "outputs": [],
   "source": [
    "import json\n",
    "import ctypes\n",
    "from dask.distributed import Client\n",
    "import dask.dataframe as dd\n",
    "\n",
    "def trim_memory() -> int:\n",
    "    libc = ctypes.CDLL(\"libc.so.6\")\n",
    "    return libc.malloc_trim(0)\n"
   ]
  },
  {
   "cell_type": "code",
   "execution_count": 2,
   "id": "e149546f-4be2-4fb9-b6be-452124493007",
   "metadata": {},
   "outputs": [
    {
     "name": "stderr",
     "output_type": "stream",
     "text": [
      "2024-01-24 00:53:27,433 - distributed.diskutils - INFO - Found stale lock file and directory '/tmp/dask-worker-space/worker-o8f_k029', purging\n",
      "2024-01-24 00:53:28,022 - distributed.nanny - WARNING - Restarting worker\n",
      "2024-01-24 00:53:28,041 - distributed.nanny - WARNING - Restarting worker\n",
      "2024-01-24 00:53:28,044 - distributed.nanny - WARNING - Restarting worker\n",
      "2024-01-24 00:53:28,052 - distributed.nanny - WARNING - Restarting worker\n"
     ]
    }
   ],
   "source": [
    "client = Client()\n",
    "# Helps fix any memory leaks.\n",
    "client.run(trim_memory)\n",
    "client = client.restart()\n"
   ]
  },
  {
   "cell_type": "code",
   "execution_count": 3,
   "id": "2343976d-9a0b-4884-a2d0-6f5674dd521c",
   "metadata": {},
   "outputs": [
    {
     "data": {
      "text/html": [
       "<div><strong>Dask DataFrame Structure:</strong></div>\n",
       "<div>\n",
       "<style scoped>\n",
       "    .dataframe tbody tr th:only-of-type {\n",
       "        vertical-align: middle;\n",
       "    }\n",
       "\n",
       "    .dataframe tbody tr th {\n",
       "        vertical-align: top;\n",
       "    }\n",
       "\n",
       "    .dataframe thead th {\n",
       "        text-align: right;\n",
       "    }\n",
       "</style>\n",
       "<table border=\"1\" class=\"dataframe\">\n",
       "  <thead>\n",
       "    <tr style=\"text-align: right;\">\n",
       "      <th></th>\n",
       "      <th>reviewerID</th>\n",
       "      <th>asin</th>\n",
       "      <th>reviewerName</th>\n",
       "      <th>helpful</th>\n",
       "      <th>reviewText</th>\n",
       "      <th>overall</th>\n",
       "      <th>summary</th>\n",
       "      <th>unixReviewTime</th>\n",
       "      <th>reviewTime</th>\n",
       "    </tr>\n",
       "    <tr>\n",
       "      <th>npartitions=445</th>\n",
       "      <th></th>\n",
       "      <th></th>\n",
       "      <th></th>\n",
       "      <th></th>\n",
       "      <th></th>\n",
       "      <th></th>\n",
       "      <th></th>\n",
       "      <th></th>\n",
       "      <th></th>\n",
       "    </tr>\n",
       "  </thead>\n",
       "  <tbody>\n",
       "    <tr>\n",
       "      <th></th>\n",
       "      <td>object</td>\n",
       "      <td>object</td>\n",
       "      <td>object</td>\n",
       "      <td>object</td>\n",
       "      <td>object</td>\n",
       "      <td>float64</td>\n",
       "      <td>object</td>\n",
       "      <td>float64</td>\n",
       "      <td>object</td>\n",
       "    </tr>\n",
       "    <tr>\n",
       "      <th></th>\n",
       "      <td>...</td>\n",
       "      <td>...</td>\n",
       "      <td>...</td>\n",
       "      <td>...</td>\n",
       "      <td>...</td>\n",
       "      <td>...</td>\n",
       "      <td>...</td>\n",
       "      <td>...</td>\n",
       "      <td>...</td>\n",
       "    </tr>\n",
       "    <tr>\n",
       "      <th>...</th>\n",
       "      <td>...</td>\n",
       "      <td>...</td>\n",
       "      <td>...</td>\n",
       "      <td>...</td>\n",
       "      <td>...</td>\n",
       "      <td>...</td>\n",
       "      <td>...</td>\n",
       "      <td>...</td>\n",
       "      <td>...</td>\n",
       "    </tr>\n",
       "    <tr>\n",
       "      <th></th>\n",
       "      <td>...</td>\n",
       "      <td>...</td>\n",
       "      <td>...</td>\n",
       "      <td>...</td>\n",
       "      <td>...</td>\n",
       "      <td>...</td>\n",
       "      <td>...</td>\n",
       "      <td>...</td>\n",
       "      <td>...</td>\n",
       "    </tr>\n",
       "    <tr>\n",
       "      <th></th>\n",
       "      <td>...</td>\n",
       "      <td>...</td>\n",
       "      <td>...</td>\n",
       "      <td>...</td>\n",
       "      <td>...</td>\n",
       "      <td>...</td>\n",
       "      <td>...</td>\n",
       "      <td>...</td>\n",
       "      <td>...</td>\n",
       "    </tr>\n",
       "  </tbody>\n",
       "</table>\n",
       "</div>\n",
       "<div>Dask Name: read-csv, 1 graph layer</div>"
      ],
      "text/plain": [
       "Dask DataFrame Structure:\n",
       "                reviewerID    asin reviewerName helpful reviewText  overall summary unixReviewTime reviewTime\n",
       "npartitions=445                                                                                              \n",
       "                    object  object       object  object     object  float64  object        float64     object\n",
       "                       ...     ...          ...     ...        ...      ...     ...            ...        ...\n",
       "...                    ...     ...          ...     ...        ...      ...     ...            ...        ...\n",
       "                       ...     ...          ...     ...        ...      ...     ...            ...        ...\n",
       "                       ...     ...          ...     ...        ...      ...     ...            ...        ...\n",
       "Dask Name: read-csv, 1 graph layer"
      ]
     },
     "execution_count": 3,
     "metadata": {},
     "output_type": "execute_result"
    }
   ],
   "source": [
    "user_reviews_ddf = dd.read_csv('user_reviews.csv')\n",
    "user_reviews_ddf"
   ]
  },
  {
   "cell_type": "code",
   "execution_count": 4,
   "id": "0f1ff4ae-7029-49ab-a5d6-e5081474d13c",
   "metadata": {},
   "outputs": [],
   "source": [
    "user_reviews_ddf['number_products_rated'] = user_reviews_ddf['asin']"
   ]
  },
  {
   "cell_type": "code",
   "execution_count": 5,
   "id": "3d6ff254-8061-41a0-b83c-2e9d6d0af402",
   "metadata": {},
   "outputs": [],
   "source": [
    "user_reviews_ddf['avg_ratings'] = user_reviews_ddf['overall']\n"
   ]
  },
  {
   "cell_type": "code",
   "execution_count": 6,
   "id": "2de40721-8ead-4320-9e71-33a15056c3eb",
   "metadata": {},
   "outputs": [],
   "source": [
    "# Extract the year\n",
    "user_reviews_ddf['reviewing_since'] = user_reviews_ddf['reviewTime'].str.slice(-4).astype(\"int\")\n",
    "\n"
   ]
  },
  {
   "cell_type": "code",
   "execution_count": 7,
   "id": "a941f03a-6a5a-4813-8c0f-0dc4cb9d8714",
   "metadata": {},
   "outputs": [],
   "source": [
    "\n",
    "# Assuming user_reviews_ddf is your Dask DataFrame\n",
    "# First, extract the number of helpful votes from the 'helpful' column\n",
    "user_reviews_ddf['helpful_votes'] = user_reviews_ddf['helpful'].apply(lambda x: eval(x)[0], meta=('x', 'int'))\n",
    "\n"
   ]
  },
  {
   "cell_type": "code",
   "execution_count": 8,
   "id": "4cdd5e48-fc06-42b0-a0a7-b62cc4288913",
   "metadata": {},
   "outputs": [],
   "source": [
    "\n",
    "\n",
    "# Assuming user_reviews_ddf is your Dask DataFrame\n",
    "# First, extract the number of helpful votes from the 'helpful' column\n",
    "user_reviews_ddf['total_votes'] = user_reviews_ddf['helpful'].apply(lambda x: eval(x)[1], meta=('x', 'int'))\n",
    "\n"
   ]
  },
  {
   "cell_type": "code",
   "execution_count": null,
   "id": "409789a1-b8fb-4c8f-9abf-ee2695082dfb",
   "metadata": {},
   "outputs": [],
   "source": []
  },
  {
   "cell_type": "code",
   "execution_count": null,
   "id": "b0a15e32-aed4-4328-a77b-8a5fd18adb23",
   "metadata": {},
   "outputs": [],
   "source": [
    "result_df = user_reviews_ddf.groupby(\"reviewerID\", sort=False).agg({\"number_products_rated\":\"count\", \"avg_ratings\":\"mean\", \"reviewing_since\":\"min\", \"helpful_votes\":\"sum\", \"total_votes\":\"sum\"}, split_out = 8)\n",
    "\n",
    "\n",
    "submit = result_df.describe().compute().round(2)    \n",
    "with open('results_PA0.json', 'w') as outfile: \n",
    "    json.dump(json.loads(submit.to_json()), outfile)"
   ]
  },
  {
   "cell_type": "code",
   "execution_count": null,
   "id": "14318f9c-88db-433e-b4bb-c9031d85878b",
   "metadata": {},
   "outputs": [],
   "source": []
  },
  {
   "cell_type": "code",
   "execution_count": null,
   "id": "51551f29-9328-410c-a862-2add40e91b37",
   "metadata": {},
   "outputs": [],
   "source": []
  },
  {
   "cell_type": "code",
   "execution_count": null,
   "id": "b381ce78-9e71-4868-99bf-db1a472293e8",
   "metadata": {},
   "outputs": [],
   "source": []
  }
 ],
 "metadata": {
  "kernelspec": {
   "display_name": "Python 3 (ipykernel)",
   "language": "python",
   "name": "python3"
  },
  "language_info": {
   "codemirror_mode": {
    "name": "ipython",
    "version": 3
   },
   "file_extension": ".py",
   "mimetype": "text/x-python",
   "name": "python",
   "nbconvert_exporter": "python",
   "pygments_lexer": "ipython3",
   "version": "3.10.12"
  }
 },
 "nbformat": 4,
 "nbformat_minor": 5
}
